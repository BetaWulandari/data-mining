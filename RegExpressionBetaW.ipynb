{
  "nbformat": 4,
  "nbformat_minor": 0,
  "metadata": {
    "kernelspec": {
      "display_name": "Python 3",
      "language": "python",
      "name": "python3"
    },
    "language_info": {
      "codemirror_mode": {
        "name": "ipython",
        "version": 3
      },
      "file_extension": ".py",
      "mimetype": "text/x-python",
      "name": "python",
      "nbconvert_exporter": "python",
      "pygments_lexer": "ipython3",
      "version": "3.8.5"
    },
    "colab": {
      "name": "RegExpressionBetaW.ipynb",
      "provenance": []
    }
  },
  "cells": [
    {
      "cell_type": "markdown",
      "metadata": {
        "id": "uHjEmIidDc5r"
      },
      "source": [
        "# Data Mining 2020/2021 | Universitas AMIKOM Yogyakarta\n",
        "### Pre-processing - Regular Expression\n",
        "#### Name: Beta Wulandari\n",
        "#### Student ID: 18.61.0138"
      ]
    },
    {
      "cell_type": "code",
      "metadata": {
        "id": "_QRd6FvsDc5t",
        "outputId": "6175aa91-9620-4b77-ff21-dc7d5edbbf0a",
        "colab": {
          "base_uri": "https://localhost:8080/",
          "height": 34
        }
      },
      "source": [
        "# cleaning non alpha-numeric\n",
        "import re\n",
        "txt = 'Halo! @Beta. #what you* feel today?' #edited by beta\n",
        "print(re.sub(r'[^\\w]',' ',txt))\n",
        "# atau jika ingin exclude titik dan koma \n",
        "# re.sub(r'[^.,a-zA-Z0-9 \\n\\.]','',txt)"
      ],
      "execution_count": 2,
      "outputs": [
        {
          "output_type": "stream",
          "text": [
            "Halo   Beta   what you  feel today \n"
          ],
          "name": "stdout"
        }
      ]
    },
    {
      "cell_type": "code",
      "metadata": {
        "id": "jDdUAnm1Dc50",
        "outputId": "2c450a49-9ada-4000-8f50-901d9af3ce5e",
        "colab": {
          "base_uri": "https://localhost:8080/",
          "height": 105
        }
      },
      "source": [
        "# Cleaning hashTags dalam posting media sosial\n",
        "tweet = '#programming #bigdata #clasification #preprocessing' #edited by beta\n",
        "\n",
        "getHashtags = re.compile(r\"#(\\w+)\")\n",
        "print(\"Tags = {0}\".format(re.findall(getHashtags, tweet)))\n",
        "pisahtags = re.compile(r'[A-Z][^A-Z]*')\n",
        "\n",
        "for tags in re.findall(getHashtags, tweet):\n",
        "    print(re.findall(pisahtags, tags))"
      ],
      "execution_count": 4,
      "outputs": [
        {
          "output_type": "stream",
          "text": [
            "Tags = ['programming', 'bigdata', 'clasification', 'preprocessing']\n",
            "[]\n",
            "[]\n",
            "[]\n",
            "[]\n"
          ],
          "name": "stdout"
        }
      ]
    },
    {
      "cell_type": "code",
      "metadata": {
        "id": "UD1-rfKWDc56",
        "outputId": "f3178e67-4ff2-4b36-e5e3-219bfd1f0f4a",
        "colab": {
          "base_uri": "https://localhost:8080/",
          "height": 87
        }
      },
      "source": [
        "pisahtags = re.compile(r'[A-Z][^A-Z]*')\n",
        "\n",
        "for tags in re.findall(getHashtags, tweet):\n",
        "    print(re.findall(pisahtags, tags))"
      ],
      "execution_count": 5,
      "outputs": [
        {
          "output_type": "stream",
          "text": [
            "[]\n",
            "[]\n",
            "[]\n",
            "[]\n"
          ],
          "name": "stdout"
        }
      ]
    },
    {
      "cell_type": "code",
      "metadata": {
        "id": "vdYcUK_0Dc5_",
        "outputId": "2390731b-cd4a-4f62-856b-dc243ec7e4ec",
        "colab": {
          "base_uri": "https://localhost:8080/",
          "height": 52
        }
      },
      "source": [
        "# Extracting atau replacing eMail.\n",
        "import re\n",
        "emailPattern = re.compile(r'[\\w._%+-]+@[\\w\\.-]+\\.[a-zA-Z]{2,4}')\n",
        "\n",
        "txt = 'contact us at beta.wulandari@students.amikom.ac.id or betawulandari21@gmail.com' #edited by beta\n",
        "\n",
        "print( re.sub(emailPattern, ' ', txt) )# clean email\n",
        "eMailS = re.findall( emailPattern, txt )\n",
        "print( 'email yang ditemukan: ', str(eMailS) )"
      ],
      "execution_count": 6,
      "outputs": [
        {
          "output_type": "stream",
          "text": [
            "contact us at   or  \n",
            "email yang ditemukan:  ['beta.wulandari@students.amikom.ac.id', 'betawulandari21@gmail.com']\n"
          ],
          "name": "stdout"
        }
      ]
    },
    {
      "cell_type": "code",
      "metadata": {
        "id": "y56-XFU-Dc6F",
        "outputId": "67936f3f-298f-4a08-cbf6-eb70bd854eec",
        "colab": {
          "base_uri": "https://localhost:8080/",
          "height": 34
        }
      },
      "source": [
        "import re # impor modul regular expression\n",
        "kalimat = \"there are 4 ingredients, egg, sauce, salt, and carrot\" #edited by beta\n",
        "hasil = re.sub(r\"\\d+\", \"\", kalimat)\n",
        "print(hasil)"
      ],
      "execution_count": 10,
      "outputs": [
        {
          "output_type": "stream",
          "text": [
            "there are  ingredients, egg, sauce, salt, and carrot\n"
          ],
          "name": "stdout"
        }
      ]
    },
    {
      "cell_type": "code",
      "metadata": {
        "id": "gkhWkGy9Dc6K",
        "outputId": "4747447b-0eee-4730-980d-2bebf7a2ffea",
        "colab": {
          "base_uri": "https://localhost:8080/",
          "height": 52
        }
      },
      "source": [
        "# Website URLS http(s) .... untuk ftp trivial\n",
        "urlPattern = re.compile(r'http[s]?://(?:[a-zA-Z]|[0-9]|[$-_@.&+]|[!*\\(\\),]|(?:%[0-9a-fA-F][0-9a-fA-F]))+')\n",
        "\n",
        "txt = 'visit URl: https://unsplash.com/ or https://www.shutterstock.com/' #edited by beta\n",
        "print(re.sub(urlPattern,' ',txt))# clean urls\n",
        "\n",
        "URLs = re.findall(urlPattern,txt)# get URLs\n",
        "print('URL yang ditemukan: ',str(URLs))"
      ],
      "execution_count": 11,
      "outputs": [
        {
          "output_type": "stream",
          "text": [
            "visit URl:   or  \n",
            "URL yang ditemukan:  ['https://unsplash.com/', 'https://www.shutterstock.com/']\n"
          ],
          "name": "stdout"
        }
      ]
    },
    {
      "cell_type": "code",
      "metadata": {
        "id": "DyiWgnegH9bn",
        "outputId": "aeff6577-5744-4415-cf17-1aef399f4df3",
        "colab": {
          "base_uri": "https://localhost:8080/",
          "height": 34
        }
      },
      "source": [
        "import re\n",
        "txt = \"it's a beautiful day\" #added by beta\n",
        "hasil = re.split(\"\\s\", txt)\n",
        "print(hasil)"
      ],
      "execution_count": 12,
      "outputs": [
        {
          "output_type": "stream",
          "text": [
            "[\"it's\", 'a', 'beautiful', 'day']\n"
          ],
          "name": "stdout"
        }
      ]
    },
    {
      "cell_type": "code",
      "metadata": {
        "id": "A2TKd4aOJzpY",
        "outputId": "25d06640-eb6b-408b-ba10-c933d9e8434f",
        "colab": {
          "base_uri": "https://localhost:8080/",
          "height": 34
        }
      },
      "source": [
        "import re\n",
        "\n",
        "#Search for an upper case \"S\" character in the beginning of a word, and print its position:\n",
        "\n",
        "txt = \"The rain in Spain\"\n",
        "x = re.search(r\"\\bS\\w+\", txt)\n",
        "print(x.span())"
      ],
      "execution_count": 15,
      "outputs": [
        {
          "output_type": "stream",
          "text": [
            "(12, 17)\n"
          ],
          "name": "stdout"
        }
      ]
    },
    {
      "cell_type": "code",
      "metadata": {
        "id": "BkNCq-rEKBhx",
        "outputId": "1eb4090c-2fca-4e17-c4cc-50e29fc5aed4",
        "colab": {
          "base_uri": "https://localhost:8080/",
          "height": 34
        }
      },
      "source": [
        "import re \n",
        "#search for an uppercase \"S\" character in beginning of a word, and print its position:\n",
        "sentence = \"We are going to Swiss\" #added by beta\n",
        "result = re.search(r\"\\bS\\w+\", sentence)\n",
        "print(result.span())"
      ],
      "execution_count": 16,
      "outputs": [
        {
          "output_type": "stream",
          "text": [
            "(16, 21)\n"
          ],
          "name": "stdout"
        }
      ]
    }
  ]
}