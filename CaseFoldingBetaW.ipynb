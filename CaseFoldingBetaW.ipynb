{
  "nbformat": 4,
  "nbformat_minor": 0,
  "metadata": {
    "kernelspec": {
      "display_name": "Python 3",
      "language": "python",
      "name": "python3"
    },
    "language_info": {
      "codemirror_mode": {
        "name": "ipython",
        "version": 3
      },
      "file_extension": ".py",
      "mimetype": "text/x-python",
      "name": "python",
      "nbconvert_exporter": "python",
      "pygments_lexer": "ipython3",
      "version": "3.8.5"
    },
    "colab": {
      "name": "CaseFoldingBetaW.ipynb",
      "provenance": [],
      "collapsed_sections": []
    }
  },
  "cells": [
    {
      "cell_type": "markdown",
      "metadata": {
        "id": "9PwJQ92pzlkK"
      },
      "source": [
        "# Data Mining 2020/2021 | Universitas AMIKOM Yogyakarta\n",
        "### Pre-processing - Case Folding\n",
        "#### Name: Beta Wulandari \n",
        "#### Student ID: 18.61.0138 "
      ]
    },
    {
      "cell_type": "code",
      "metadata": {
        "id": "sJxEY5eSzlkM",
        "outputId": "15266bb2-4382-469c-e836-cb763391712f",
        "colab": {
          "base_uri": "https://localhost:8080/",
          "height": 34
        }
      },
      "source": [
        "sentence = \"Beta Wulandari, sedang belajar Pre-processing - Case Folding mata kuliah Data Mining\" #edit by beta\n",
        "lower_case = sentence.lower()\n",
        "print(lower_case)"
      ],
      "execution_count": 22,
      "outputs": [
        {
          "output_type": "stream",
          "text": [
            "beta wulandari, sedang belajar pre-processing - case folding mata kuliah data mining\n"
          ],
          "name": "stdout"
        }
      ]
    },
    {
      "cell_type": "code",
      "metadata": {
        "id": "LqPhgpZu2-Mu",
        "outputId": "69db1008-21f3-4091-9d37-ae42134da826",
        "colab": {
          "base_uri": "https://localhost:8080/",
          "height": 34
        }
      },
      "source": [
        "import re #impor modul regular expression\n",
        "\n",
        "angka = \"Beta mempunyai 3 botol, 6 sendok, dan 2 piring\" #added by beta\n",
        "hasil = re.sub(r\"\\d+\", \"\", angka)\n",
        "print(hasil)"
      ],
      "execution_count": 20,
      "outputs": [
        {
          "output_type": "stream",
          "text": [
            "Beta mempunyai  botol,  sendok, dan  piring\n"
          ],
          "name": "stdout"
        }
      ]
    },
    {
      "cell_type": "code",
      "metadata": {
        "id": "ttg5FRRl5zDg",
        "outputId": "9548268e-6e60-42bb-cba8-dbf69c93dfa0",
        "colab": {
          "base_uri": "https://localhost:8080/",
          "height": 34
        }
      },
      "source": [
        "whitespace = \"              example the whitespace \" #added by beta\n",
        "hasil = whitespace.strip()\n",
        "print(hasil)"
      ],
      "execution_count": 21,
      "outputs": [
        {
          "output_type": "stream",
          "text": [
            "example the whitespace\n"
          ],
          "name": "stdout"
        }
      ]
    }
  ]
}